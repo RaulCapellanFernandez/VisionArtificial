{
 "cells": [
  {
   "cell_type": "code",
   "execution_count": 2,
   "metadata": {},
   "outputs": [],
   "source": [
    "import os \n",
    "import glob\n",
    "import collections"
   ]
  },
  {
   "cell_type": "code",
   "execution_count": 38,
   "metadata": {},
   "outputs": [],
   "source": [
    "def files_per_extension(new_path, extension='*.*', FLAG=True, VERBOSE=False):\n",
    "    os.chdir(new_path)\n",
    "\n",
    "    os.getcwd()\n",
    "\n",
    "    cnt = collections.Counter() #Apartado 5\n",
    "    for filename in glob.glob(extension):\n",
    "        name, ext = os.path.splitext(filename)\n",
    "        cnt[ext] += 1\n",
    "        if(FLAG == True):\n",
    "            print(ext,\"  \", cnt[ext])"
   ]
  },
  {
   "cell_type": "code",
   "execution_count": 41,
   "metadata": {},
   "outputs": [
    {
     "name": "stdout",
     "output_type": "stream",
     "text": [
      ".ipynb    1\n"
     ]
    }
   ],
   "source": [
    "files_per_extension(\"/Users/cp/Desktop\", \"*.*\", True)"
   ]
  },
  {
   "cell_type": "code",
   "execution_count": null,
   "metadata": {},
   "outputs": [],
   "source": []
  },
  {
   "cell_type": "code",
   "execution_count": null,
   "metadata": {},
   "outputs": [],
   "source": []
  }
 ],
 "metadata": {
  "kernelspec": {
   "display_name": "Python 3",
   "language": "python",
   "name": "python3"
  },
  "language_info": {
   "codemirror_mode": {
    "name": "ipython",
    "version": 3
   },
   "file_extension": ".py",
   "mimetype": "text/x-python",
   "name": "python",
   "nbconvert_exporter": "python",
   "pygments_lexer": "ipython3",
   "version": "3.7.4"
  }
 },
 "nbformat": 4,
 "nbformat_minor": 2
}
